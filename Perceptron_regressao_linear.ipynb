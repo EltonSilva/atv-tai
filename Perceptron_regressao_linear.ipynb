{
  "nbformat": 4,
  "nbformat_minor": 0,
  "metadata": {
    "colab": {
      "name": "Perceptron-regressao-linear.ipynb",
      "provenance": [],
      "collapsed_sections": [
        "dMWHBQ8mRKeC"
      ],
      "toc_visible": true
    },
    "kernelspec": {
      "name": "python3",
      "display_name": "Python 3"
    }
  },
  "cells": [
    {
      "cell_type": "markdown",
      "metadata": {
        "id": "Ln109gQw2Zox"
      },
      "source": [
        "# TREINAMENTO SIMPLES DE UM PERCEPTRON"
      ]
    },
    {
      "cell_type": "markdown",
      "metadata": {
        "id": "tbxitEVZ2bp9"
      },
      "source": [
        "## Problema"
      ]
    },
    {
      "cell_type": "markdown",
      "metadata": {
        "id": "xtk8Y3Vj1djj"
      },
      "source": [
        "\r\n",
        "\r\n",
        "*   PWMxVelocidade\r\n",
        "\r\n"
      ]
    },
    {
      "cell_type": "markdown",
      "metadata": {
        "id": "R8IGhs8A4g7n"
      },
      "source": [
        "## Carregamento de dados"
      ]
    },
    {
      "cell_type": "code",
      "metadata": {
        "id": "LRJhw3Q31wdF"
      },
      "source": [
        "import pandas as pd"
      ],
      "execution_count": 5,
      "outputs": []
    },
    {
      "cell_type": "code",
      "metadata": {
        "colab": {
          "base_uri": "https://localhost:8080/",
          "height": 204
        },
        "id": "JwElCifG4uyN",
        "outputId": "4ab4ca7f-2484-4f8f-cc7a-51b1ec38ba7d"
      },
      "source": [
        "dados = pd.read_csv(\"https://raw.githubusercontent.com/ect-info/ml/master/dados/PWMxVelocidade.csv\")\r\n",
        "dados.head()"
      ],
      "execution_count": 6,
      "outputs": [
        {
          "output_type": "execute_result",
          "data": {
            "text/html": [
              "<div>\n",
              "<style scoped>\n",
              "    .dataframe tbody tr th:only-of-type {\n",
              "        vertical-align: middle;\n",
              "    }\n",
              "\n",
              "    .dataframe tbody tr th {\n",
              "        vertical-align: top;\n",
              "    }\n",
              "\n",
              "    .dataframe thead th {\n",
              "        text-align: right;\n",
              "    }\n",
              "</style>\n",
              "<table border=\"1\" class=\"dataframe\">\n",
              "  <thead>\n",
              "    <tr style=\"text-align: right;\">\n",
              "      <th></th>\n",
              "      <th>PWM</th>\n",
              "      <th>Velocidade</th>\n",
              "    </tr>\n",
              "  </thead>\n",
              "  <tbody>\n",
              "    <tr>\n",
              "      <th>0</th>\n",
              "      <td>80</td>\n",
              "      <td>12.82</td>\n",
              "    </tr>\n",
              "    <tr>\n",
              "      <th>1</th>\n",
              "      <td>80</td>\n",
              "      <td>13.03</td>\n",
              "    </tr>\n",
              "    <tr>\n",
              "      <th>2</th>\n",
              "      <td>90</td>\n",
              "      <td>16.02</td>\n",
              "    </tr>\n",
              "    <tr>\n",
              "      <th>3</th>\n",
              "      <td>100</td>\n",
              "      <td>18.37</td>\n",
              "    </tr>\n",
              "    <tr>\n",
              "      <th>4</th>\n",
              "      <td>110</td>\n",
              "      <td>20.93</td>\n",
              "    </tr>\n",
              "  </tbody>\n",
              "</table>\n",
              "</div>"
            ],
            "text/plain": [
              "   PWM  Velocidade\n",
              "0   80       12.82\n",
              "1   80       13.03\n",
              "2   90       16.02\n",
              "3  100       18.37\n",
              "4  110       20.93"
            ]
          },
          "metadata": {
            "tags": []
          },
          "execution_count": 6
        }
      ]
    },
    {
      "cell_type": "code",
      "metadata": {
        "id": "6un-srROMKsl"
      },
      "source": [
        "#Variável independente\r\n",
        "X = dados.iloc[: , [0]].values"
      ],
      "execution_count": 7,
      "outputs": []
    },
    {
      "cell_type": "code",
      "metadata": {
        "colab": {
          "base_uri": "https://localhost:8080/"
        },
        "id": "gfgNY_KNMynz",
        "outputId": "856e2256-cbbc-4a74-bdb6-de0b4f4f7be3"
      },
      "source": [
        "print(X)"
      ],
      "execution_count": 8,
      "outputs": [
        {
          "output_type": "stream",
          "text": [
            "[[ 80]\n",
            " [ 80]\n",
            " [ 90]\n",
            " [100]\n",
            " [110]\n",
            " [110]\n",
            " [100]\n",
            " [100]\n",
            " [ 90]\n",
            " [120]\n",
            " [120]\n",
            " [120]\n",
            " [130]\n",
            " [130]\n",
            " [130]\n",
            " [140]\n",
            " [140]\n",
            " [140]\n",
            " [140]\n",
            " [140]\n",
            " [150]\n",
            " [150]\n",
            " [150]\n",
            " [160]\n",
            " [160]\n",
            " [160]\n",
            " [170]\n",
            " [170]\n",
            " [190]\n",
            " [190]\n",
            " [210]\n",
            " [210]\n",
            " [210]\n",
            " [210]\n",
            " [230]\n",
            " [230]\n",
            " [230]\n",
            " [230]\n",
            " [250]\n",
            " [250]\n",
            " [250]\n",
            " [250]\n",
            " [250]]\n"
          ],
          "name": "stdout"
        }
      ]
    },
    {
      "cell_type": "code",
      "metadata": {
        "colab": {
          "base_uri": "https://localhost:8080/"
        },
        "id": "YQc4orGhNVms",
        "outputId": "f63413bd-2f9e-4cb0-f65f-a7e00191745d"
      },
      "source": [
        "Y = dados.iloc[:, 1].values\r\n",
        "print(Y)"
      ],
      "execution_count": 9,
      "outputs": [
        {
          "output_type": "stream",
          "text": [
            "[12.82 13.03 16.02 18.37 20.93 21.15 18.8  19.01 16.24 22.64 23.07 23.28\n",
            " 24.35 24.99 24.78 25.85 26.7  26.49 26.28 26.06 27.34 27.56 27.77 28.41\n",
            " 29.05 28.63 29.91 29.69 31.62 31.4  33.33 33.26 32.47 32.9  32.9  32.68\n",
            " 32.9  33.1  32.68 33.11 32.47 33.54 34.18]\n"
          ],
          "name": "stdout"
        }
      ]
    },
    {
      "cell_type": "markdown",
      "metadata": {
        "id": "4jUgJ7EWPrEM"
      },
      "source": [
        "## TREINAMENTO / AJUSTE DO MODELO"
      ]
    },
    {
      "cell_type": "markdown",
      "metadata": {
        "id": "dMWHBQ8mRKeC"
      },
      "source": [
        "### Ajustes"
      ]
    },
    {
      "cell_type": "code",
      "metadata": {
        "id": "e8DJnmxXQ2I_"
      },
      "source": [
        "from sklearn import linear_model\r\n",
        "from sklearn.metrics import mean_squared_error, r2_score\r\n",
        "\r\n",
        "\r\n",
        "regr = linear_model.LinearRegression()"
      ],
      "execution_count": 10,
      "outputs": []
    },
    {
      "cell_type": "code",
      "metadata": {
        "colab": {
          "base_uri": "https://localhost:8080/"
        },
        "id": "09juxzntRCZC",
        "outputId": "c1aaee98-a904-469c-a63d-8708b4c55119"
      },
      "source": [
        "regr.fit(X,Y)"
      ],
      "execution_count": 11,
      "outputs": [
        {
          "output_type": "execute_result",
          "data": {
            "text/plain": [
              "LinearRegression(copy_X=True, fit_intercept=True, n_jobs=None, normalize=False)"
            ]
          },
          "metadata": {
            "tags": []
          },
          "execution_count": 11
        }
      ]
    },
    {
      "cell_type": "markdown",
      "metadata": {
        "id": "l6n2pniXRV9i"
      },
      "source": [
        "### Testes"
      ]
    },
    {
      "cell_type": "markdown",
      "metadata": {
        "id": "XjufEbX00G7R"
      },
      "source": [
        "\r\n",
        "\r\n",
        "*   Definindo valores para usar no teste\r\n",
        "\r\n"
      ]
    },
    {
      "cell_type": "code",
      "metadata": {
        "id": "cl6Slf18RZaf"
      },
      "source": [
        "X_teste = [[75],[84],[85],[91],[103],[112],[124],[130],[156],[178],[187],[199],[236],[258]]\r\n",
        "\r\n",
        "Y_previsto = regr.predict(X_teste)"
      ],
      "execution_count": 12,
      "outputs": []
    },
    {
      "cell_type": "markdown",
      "metadata": {
        "id": "NSMW0g7ASP-R"
      },
      "source": [
        "### Visualização"
      ]
    },
    {
      "cell_type": "markdown",
      "metadata": {
        "id": "2toFXMF10dGd"
      },
      "source": [
        "\r\n",
        "\r\n",
        "*   Gráfico com os dados passados pela base de dados\r\n",
        "\r\n"
      ]
    },
    {
      "cell_type": "code",
      "metadata": {
        "colab": {
          "base_uri": "https://localhost:8080/",
          "height": 284
        },
        "id": "YFMQKlSCSUn2",
        "outputId": "2ab14a7c-a866-4c42-cf33-4010a41011b4"
      },
      "source": [
        "import matplotlib.pyplot as plt\r\n",
        "\r\n",
        "plt.scatter(X,Y, color='black') "
      ],
      "execution_count": 14,
      "outputs": [
        {
          "output_type": "execute_result",
          "data": {
            "text/plain": [
              "<matplotlib.collections.PathCollection at 0x7f8cdf477790>"
            ]
          },
          "metadata": {
            "tags": []
          },
          "execution_count": 14
        },
        {
          "output_type": "display_data",
          "data": {
            "image/png": "[encoded data removed]",
            "text/plain": [
              "<Figure size 432x288 with 1 Axes>"
            ]
          },
          "metadata": {
            "tags": [],
            "needs_background": "light"
          }
        }
      ]
    },
    {
      "cell_type": "markdown",
      "metadata": {
        "id": "hyKrUvJn03aj"
      },
      "source": [
        " \r\n",
        "\r\n",
        "* Gráfico com o teste da regressão linear\r\n",
        "\r\n",
        "\r\n"
      ]
    },
    {
      "cell_type": "code",
      "metadata": {
        "colab": {
          "base_uri": "https://localhost:8080/",
          "height": 265
        },
        "id": "-mCudrcIS9v6",
        "outputId": "3d427198-f24a-4785-e88b-ed2195fd97ea"
      },
      "source": [
        "plt.scatter(X, Y, color='black')\r\n",
        "plt.plot(X_teste, Y_previsto, color='red')\r\n",
        "plt.scatter(X_teste, Y_previsto, color='green')\r\n",
        "\r\n",
        "plt.show()"
      ],
      "execution_count": 16,
      "outputs": [
        {
          "output_type": "display_data",
          "data": {
            "image/png": "[encoded data removed]",
            "text/plain": [
              "<Figure size 432x288 with 1 Axes>"
            ]
          },
          "metadata": {
            "tags": [],
            "needs_background": "light"
          }
        }
      ]
    },
    {
      "cell_type": "markdown",
      "metadata": {
        "id": "NlvNxl7a426x"
      },
      "source": [
        " **Foi possível verificar que a regressão linear coincidiu com a função gerada a partir dos dados utilizados. Logo, o modelo foi compatível para a previsão da reta.**\r\n",
        "\r\n",
        " **Ressalto que não consegui mostrar o coeficiente de regressão, o erro quadrático médio e a variância**"
      ]
    }
  ]
}